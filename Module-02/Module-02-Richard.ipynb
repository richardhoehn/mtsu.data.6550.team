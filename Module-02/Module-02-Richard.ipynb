{
 "cells": [
  {
   "cell_type": "markdown",
   "id": "0443431f-6639-4eb2-a175-a91269c5ed23",
   "metadata": {},
   "source": [
    "<h1 style=\"text-align: center; font-weight: bold;\">Module-02</h1>\n",
    "<h3 style=\"text-align: center;\">Data Bias</h3>\n",
    "<h3 style=\"text-align: center;\">DATA-6550</h3>\n",
    "\n",
    "<h4 style=\"text-align: center; line-height: 1.5;\">By<br><b>Richard Hoehn</b></h4>"
   ]
  },
  {
   "cell_type": "markdown",
   "id": "d4146893-c15c-4ed1-adef-9fd3b50fb9ee",
   "metadata": {},
   "source": [
    "<hr style=\"height:10px; border:0px; background: linear-gradient(to right, white, blue, white); margin:50px;\">"
   ]
  },
  {
   "cell_type": "markdown",
   "id": "90e1569c-5608-40fd-a7c2-8cd0868712e3",
   "metadata": {},
   "source": [
    "# Import Libraries & Setup Constants"
   ]
  },
  {
   "cell_type": "code",
   "execution_count": 12,
   "id": "75ac47ec-e42f-4349-aef1-c78e223030ae",
   "metadata": {
    "tags": []
   },
   "outputs": [],
   "source": [
    "# Imports of main Libs\n",
    "import numpy as np\n",
    "import pandas as pd\n",
    "import matplotlib.pyplot as plt\n",
    "import matplotlib.ticker as mtick\n",
    "import seaborn as sns\n",
    "\n",
    "# Date & Time Parsing\n",
    "import datetime as dt\n",
    "\n",
    "# Handle Warnings\n",
    "import warnings\n",
    "warnings.filterwarnings(\"ignore\")\n",
    "warnings.filterwarnings(\"ignore\", category=DeprecationWarning)\n",
    "warnings.filterwarnings(\"ignore\", category=FutureWarning)\n",
    "warnings.filterwarnings(\"ignore\", category=UserWarning)\n",
    "\n",
    "#style options\n",
    "%matplotlib inline\n",
    "\n",
    "# Main Settings for Panda Display & Plotting Colors\n",
    "pd.set_option('display.max_columns', 500) # Allows for up to 500 columns to be displayed when viewing a dataframe\n",
    "plt.style.use('seaborn-v0_8') # A style that can be used for plots\n",
    "\n",
    "# Constants\n",
    "DEV_SIZE  = 1 # Development Size of Dataset\n",
    "RND       = 42  # Randome Init\n",
    "TEST_SIZE = 0.3 # Size of Training Data Used\n",
    "STARS     = 50  # Sapcer for comments"
   ]
  },
  {
   "cell_type": "code",
   "execution_count": 18,
   "id": "a054662f-c9a3-4fd2-9442-ec34341b379f",
   "metadata": {
    "tags": []
   },
   "outputs": [
    {
     "name": "stdout",
     "output_type": "stream",
     "text": [
      "Importing Data\n",
      "UCI Adult Data => 32,561 Rows\n"
     ]
    }
   ],
   "source": [
    "#---------------------------------------------------------\n",
    "#--- Date Loading into Single Dataframe\n",
    "#---------------------------------------------------------\n",
    "\n",
    "# 01 - Import\n",
    "print(\"Importing Data\")\n",
    "data = pd.read_csv('data/adult.csv')\n",
    "\n",
    "# 02 - Display Row Count\n",
    "print(f\"UCI Adult Data => {data.shape[0]:,.0f} Rows\")"
   ]
  },
  {
   "cell_type": "code",
   "execution_count": null,
   "id": "416859e0-b0a7-4888-b1d4-124b0d7e8bf4",
   "metadata": {},
   "outputs": [],
   "source": []
  },
  {
   "cell_type": "code",
   "execution_count": null,
   "id": "08d36d2e-4b7a-4e0a-867c-2056c6c89d70",
   "metadata": {},
   "outputs": [],
   "source": []
  }
 ],
 "metadata": {
  "kernelspec": {
   "display_name": "Python 3 (ipykernel)",
   "language": "python",
   "name": "python3"
  },
  "language_info": {
   "codemirror_mode": {
    "name": "ipython",
    "version": 3
   },
   "file_extension": ".py",
   "mimetype": "text/x-python",
   "name": "python",
   "nbconvert_exporter": "python",
   "pygments_lexer": "ipython3",
   "version": "3.11.7"
  }
 },
 "nbformat": 4,
 "nbformat_minor": 5
}
