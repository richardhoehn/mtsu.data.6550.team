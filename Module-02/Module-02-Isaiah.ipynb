{
 "cells": [
  {
   "cell_type": "markdown",
   "id": "ac6d6e01",
   "metadata": {
    "lines_to_next_cell": 2
   },
   "source": [
    "# Module 2 Analysis\n",
    "\n",
    "_Isaiah Osborne_"
   ]
  },
  {
   "cell_type": "markdown",
   "id": "fae73299",
   "metadata": {},
   "source": [
    "\n",
    "## Import Libraries "
   ]
  },
  {
   "cell_type": "code",
   "execution_count": 33,
   "id": "6affcdae",
   "metadata": {},
   "outputs": [],
   "source": [
    "import pandas as pd\n",
    "import seaborn as sns\n",
    "import matplotlib.pyplot as plt\n",
    "import math\n",
    "\n",
    "sns.set_theme()"
   ]
  },
  {
   "cell_type": "markdown",
   "id": "5fd5322b",
   "metadata": {},
   "source": [
    "Load Dataset "
   ]
  },
  {
   "cell_type": "code",
   "execution_count": 12,
   "id": "5944aa43",
   "metadata": {
    "lines_to_next_cell": 3
   },
   "outputs": [
    {
     "data": {
      "text/html": [
       "<div>\n",
       "<style scoped>\n",
       "    .dataframe tbody tr th:only-of-type {\n",
       "        vertical-align: middle;\n",
       "    }\n",
       "\n",
       "    .dataframe tbody tr th {\n",
       "        vertical-align: top;\n",
       "    }\n",
       "\n",
       "    .dataframe thead th {\n",
       "        text-align: right;\n",
       "    }\n",
       "</style>\n",
       "<table border=\"1\" class=\"dataframe\">\n",
       "  <thead>\n",
       "    <tr style=\"text-align: right;\">\n",
       "      <th></th>\n",
       "      <th>age</th>\n",
       "      <th>workclass</th>\n",
       "      <th>fnlwgt</th>\n",
       "      <th>education</th>\n",
       "      <th>education.num</th>\n",
       "      <th>marital.status</th>\n",
       "      <th>occupation</th>\n",
       "      <th>relationship</th>\n",
       "      <th>race</th>\n",
       "      <th>sex</th>\n",
       "      <th>capital.gain</th>\n",
       "      <th>capital.loss</th>\n",
       "      <th>hours.per.week</th>\n",
       "      <th>native.country</th>\n",
       "      <th>income</th>\n",
       "    </tr>\n",
       "  </thead>\n",
       "  <tbody>\n",
       "    <tr>\n",
       "      <th>0</th>\n",
       "      <td>90</td>\n",
       "      <td>?</td>\n",
       "      <td>77053</td>\n",
       "      <td>HS-grad</td>\n",
       "      <td>9</td>\n",
       "      <td>Widowed</td>\n",
       "      <td>?</td>\n",
       "      <td>Not-in-family</td>\n",
       "      <td>White</td>\n",
       "      <td>Female</td>\n",
       "      <td>0</td>\n",
       "      <td>4356</td>\n",
       "      <td>40</td>\n",
       "      <td>United-States</td>\n",
       "      <td>&lt;=50K</td>\n",
       "    </tr>\n",
       "    <tr>\n",
       "      <th>1</th>\n",
       "      <td>82</td>\n",
       "      <td>Private</td>\n",
       "      <td>132870</td>\n",
       "      <td>HS-grad</td>\n",
       "      <td>9</td>\n",
       "      <td>Widowed</td>\n",
       "      <td>Exec-managerial</td>\n",
       "      <td>Not-in-family</td>\n",
       "      <td>White</td>\n",
       "      <td>Female</td>\n",
       "      <td>0</td>\n",
       "      <td>4356</td>\n",
       "      <td>18</td>\n",
       "      <td>United-States</td>\n",
       "      <td>&lt;=50K</td>\n",
       "    </tr>\n",
       "    <tr>\n",
       "      <th>2</th>\n",
       "      <td>66</td>\n",
       "      <td>?</td>\n",
       "      <td>186061</td>\n",
       "      <td>Some-college</td>\n",
       "      <td>10</td>\n",
       "      <td>Widowed</td>\n",
       "      <td>?</td>\n",
       "      <td>Unmarried</td>\n",
       "      <td>Black</td>\n",
       "      <td>Female</td>\n",
       "      <td>0</td>\n",
       "      <td>4356</td>\n",
       "      <td>40</td>\n",
       "      <td>United-States</td>\n",
       "      <td>&lt;=50K</td>\n",
       "    </tr>\n",
       "    <tr>\n",
       "      <th>3</th>\n",
       "      <td>54</td>\n",
       "      <td>Private</td>\n",
       "      <td>140359</td>\n",
       "      <td>7th-8th</td>\n",
       "      <td>4</td>\n",
       "      <td>Divorced</td>\n",
       "      <td>Machine-op-inspct</td>\n",
       "      <td>Unmarried</td>\n",
       "      <td>White</td>\n",
       "      <td>Female</td>\n",
       "      <td>0</td>\n",
       "      <td>3900</td>\n",
       "      <td>40</td>\n",
       "      <td>United-States</td>\n",
       "      <td>&lt;=50K</td>\n",
       "    </tr>\n",
       "    <tr>\n",
       "      <th>4</th>\n",
       "      <td>41</td>\n",
       "      <td>Private</td>\n",
       "      <td>264663</td>\n",
       "      <td>Some-college</td>\n",
       "      <td>10</td>\n",
       "      <td>Separated</td>\n",
       "      <td>Prof-specialty</td>\n",
       "      <td>Own-child</td>\n",
       "      <td>White</td>\n",
       "      <td>Female</td>\n",
       "      <td>0</td>\n",
       "      <td>3900</td>\n",
       "      <td>40</td>\n",
       "      <td>United-States</td>\n",
       "      <td>&lt;=50K</td>\n",
       "    </tr>\n",
       "    <tr>\n",
       "      <th>...</th>\n",
       "      <td>...</td>\n",
       "      <td>...</td>\n",
       "      <td>...</td>\n",
       "      <td>...</td>\n",
       "      <td>...</td>\n",
       "      <td>...</td>\n",
       "      <td>...</td>\n",
       "      <td>...</td>\n",
       "      <td>...</td>\n",
       "      <td>...</td>\n",
       "      <td>...</td>\n",
       "      <td>...</td>\n",
       "      <td>...</td>\n",
       "      <td>...</td>\n",
       "      <td>...</td>\n",
       "    </tr>\n",
       "    <tr>\n",
       "      <th>32556</th>\n",
       "      <td>22</td>\n",
       "      <td>Private</td>\n",
       "      <td>310152</td>\n",
       "      <td>Some-college</td>\n",
       "      <td>10</td>\n",
       "      <td>Never-married</td>\n",
       "      <td>Protective-serv</td>\n",
       "      <td>Not-in-family</td>\n",
       "      <td>White</td>\n",
       "      <td>Male</td>\n",
       "      <td>0</td>\n",
       "      <td>0</td>\n",
       "      <td>40</td>\n",
       "      <td>United-States</td>\n",
       "      <td>&lt;=50K</td>\n",
       "    </tr>\n",
       "    <tr>\n",
       "      <th>32557</th>\n",
       "      <td>27</td>\n",
       "      <td>Private</td>\n",
       "      <td>257302</td>\n",
       "      <td>Assoc-acdm</td>\n",
       "      <td>12</td>\n",
       "      <td>Married-civ-spouse</td>\n",
       "      <td>Tech-support</td>\n",
       "      <td>Wife</td>\n",
       "      <td>White</td>\n",
       "      <td>Female</td>\n",
       "      <td>0</td>\n",
       "      <td>0</td>\n",
       "      <td>38</td>\n",
       "      <td>United-States</td>\n",
       "      <td>&lt;=50K</td>\n",
       "    </tr>\n",
       "    <tr>\n",
       "      <th>32558</th>\n",
       "      <td>40</td>\n",
       "      <td>Private</td>\n",
       "      <td>154374</td>\n",
       "      <td>HS-grad</td>\n",
       "      <td>9</td>\n",
       "      <td>Married-civ-spouse</td>\n",
       "      <td>Machine-op-inspct</td>\n",
       "      <td>Husband</td>\n",
       "      <td>White</td>\n",
       "      <td>Male</td>\n",
       "      <td>0</td>\n",
       "      <td>0</td>\n",
       "      <td>40</td>\n",
       "      <td>United-States</td>\n",
       "      <td>&gt;50K</td>\n",
       "    </tr>\n",
       "    <tr>\n",
       "      <th>32559</th>\n",
       "      <td>58</td>\n",
       "      <td>Private</td>\n",
       "      <td>151910</td>\n",
       "      <td>HS-grad</td>\n",
       "      <td>9</td>\n",
       "      <td>Widowed</td>\n",
       "      <td>Adm-clerical</td>\n",
       "      <td>Unmarried</td>\n",
       "      <td>White</td>\n",
       "      <td>Female</td>\n",
       "      <td>0</td>\n",
       "      <td>0</td>\n",
       "      <td>40</td>\n",
       "      <td>United-States</td>\n",
       "      <td>&lt;=50K</td>\n",
       "    </tr>\n",
       "    <tr>\n",
       "      <th>32560</th>\n",
       "      <td>22</td>\n",
       "      <td>Private</td>\n",
       "      <td>201490</td>\n",
       "      <td>HS-grad</td>\n",
       "      <td>9</td>\n",
       "      <td>Never-married</td>\n",
       "      <td>Adm-clerical</td>\n",
       "      <td>Own-child</td>\n",
       "      <td>White</td>\n",
       "      <td>Male</td>\n",
       "      <td>0</td>\n",
       "      <td>0</td>\n",
       "      <td>20</td>\n",
       "      <td>United-States</td>\n",
       "      <td>&lt;=50K</td>\n",
       "    </tr>\n",
       "  </tbody>\n",
       "</table>\n",
       "<p>32561 rows × 15 columns</p>\n",
       "</div>"
      ],
      "text/plain": [
       "       age workclass  fnlwgt     education  education.num      marital.status  \\\n",
       "0       90         ?   77053       HS-grad              9             Widowed   \n",
       "1       82   Private  132870       HS-grad              9             Widowed   \n",
       "2       66         ?  186061  Some-college             10             Widowed   \n",
       "3       54   Private  140359       7th-8th              4            Divorced   \n",
       "4       41   Private  264663  Some-college             10           Separated   \n",
       "...    ...       ...     ...           ...            ...                 ...   \n",
       "32556   22   Private  310152  Some-college             10       Never-married   \n",
       "32557   27   Private  257302    Assoc-acdm             12  Married-civ-spouse   \n",
       "32558   40   Private  154374       HS-grad              9  Married-civ-spouse   \n",
       "32559   58   Private  151910       HS-grad              9             Widowed   \n",
       "32560   22   Private  201490       HS-grad              9       Never-married   \n",
       "\n",
       "              occupation   relationship   race     sex  capital.gain  \\\n",
       "0                      ?  Not-in-family  White  Female             0   \n",
       "1        Exec-managerial  Not-in-family  White  Female             0   \n",
       "2                      ?      Unmarried  Black  Female             0   \n",
       "3      Machine-op-inspct      Unmarried  White  Female             0   \n",
       "4         Prof-specialty      Own-child  White  Female             0   \n",
       "...                  ...            ...    ...     ...           ...   \n",
       "32556    Protective-serv  Not-in-family  White    Male             0   \n",
       "32557       Tech-support           Wife  White  Female             0   \n",
       "32558  Machine-op-inspct        Husband  White    Male             0   \n",
       "32559       Adm-clerical      Unmarried  White  Female             0   \n",
       "32560       Adm-clerical      Own-child  White    Male             0   \n",
       "\n",
       "       capital.loss  hours.per.week native.country income  \n",
       "0              4356              40  United-States  <=50K  \n",
       "1              4356              18  United-States  <=50K  \n",
       "2              4356              40  United-States  <=50K  \n",
       "3              3900              40  United-States  <=50K  \n",
       "4              3900              40  United-States  <=50K  \n",
       "...             ...             ...            ...    ...  \n",
       "32556             0              40  United-States  <=50K  \n",
       "32557             0              38  United-States  <=50K  \n",
       "32558             0              40  United-States   >50K  \n",
       "32559             0              40  United-States  <=50K  \n",
       "32560             0              20  United-States  <=50K  \n",
       "\n",
       "[32561 rows x 15 columns]"
      ]
     },
     "execution_count": 12,
     "metadata": {},
     "output_type": "execute_result"
    }
   ],
   "source": [
    "data = pd.read_csv(\"data/adult.csv\")\n",
    "data"
   ]
  },
  {
   "cell_type": "markdown",
   "id": "bb0050f3",
   "metadata": {},
   "source": [
    "## Effects from Gender\n",
    "\n",
    "Let's see if a person's gender affects the likelihood of making more than $\\$50k$. But first of all, we'll want to start with our basic distribution for making more than $\\$50k$ - we have to be able to compare!"
   ]
  },
  {
   "cell_type": "code",
   "execution_count": 13,
   "id": "5b43ada2",
   "metadata": {},
   "outputs": [
    {
     "data": {
      "image/png": "[encoded data removed]",
      "text/plain": [
       "<Figure size 640x480 with 1 Axes>"
      ]
     },
     "metadata": {},
     "output_type": "display_data"
    }
   ],
   "source": [
    "# https://stackoverflow.com/a/42409861\n",
    "basicChart = sns.countplot(data=data, x=\"income\")\n",
    "basicChart.set_title(\"Basic Distribution for income\")\n",
    "plt.show()"
   ]
  },
  {
   "cell_type": "code",
   "execution_count": 15,
   "id": "dd1210b8",
   "metadata": {},
   "outputs": [
    {
     "data": {
      "image/png": "[encoded data removed]",
      "text/plain": [
       "<Figure size 640x480 with 1 Axes>"
      ]
     },
     "metadata": {},
     "output_type": "display_data"
    }
   ],
   "source": [
    "# https://stackoverflow.com/a/42409861\n",
    "basicGenderChart = sns.countplot(data=data, x=\"sex\")\n",
    "basicGenderChart.set_title(\"Basic Distribution for sex\")\n",
    "plt.show()"
   ]
  },
  {
   "cell_type": "markdown",
   "id": "a2c89eb9",
   "metadata": {},
   "source": [
    "Ok, so it looks like our dataset is biased toward men, with about twice as many men as women. Not sure why "
   ]
  },
  {
   "cell_type": "markdown",
   "id": "7d82f9e3",
   "metadata": {},
   "source": [
    "Ok, if we see any variables that don't have a similar distribution to this, then we'll know something's wrong!"
   ]
  },
  {
   "cell_type": "code",
   "execution_count": 14,
   "id": "4482257e",
   "metadata": {},
   "outputs": [
    {
     "data": {
      "image/png": "[encoded data removed]",
      "text/plain": [
       "<Figure size 640x480 with 1 Axes>"
      ]
     },
     "metadata": {},
     "output_type": "display_data"
    }
   ],
   "source": [
    "# https://stackoverflow.com/a/42409861\n",
    "genderChart = sns.countplot(data=data, x=\"income\", hue=\"sex\")\n",
    "genderChart.set_title(\"Basic Distribution for income\")\n",
    "plt.show()"
   ]
  },
  {
   "cell_type": "markdown",
   "id": "5a704eb0",
   "metadata": {},
   "source": [
    "Ok, this is already starting to look problematic. There are more men in both of the categories, which isn't necessarily problematic by itself (although it does raise questions of why women aren't working) but the ratios for these salaries are starting to look concerning. We can test this officially!"
   ]
  },
  {
   "cell_type": "markdown",
   "id": "7e31940b",
   "metadata": {},
   "source": [
    "### Testing for Gender Bias"
   ]
  },
  {
   "cell_type": "markdown",
   "id": "88b73172",
   "metadata": {},
   "source": [
    "(As a stats major in undergrad, I'm just glad that I can finally use this!)"
   ]
  },
  {
   "cell_type": "markdown",
   "id": "a4a643a3",
   "metadata": {},
   "source": [
    "<https://online.stat.psu.edu/stat415/lesson/9/9.4>\n",
    "\n",
    "We can formally test if men and women have different proportions by using this test statistic:\n",
    "\n",
    "$Z=\\dfrac{(\\hat{p}_{\\text{men}}-\\hat{p}_{\\text{women}})-0}{\\sqrt{\\hat{p}_{\\text{overall}}(1-\\hat{p}_{\\text{overall}})\\left(\\dfrac{1}{n_1}+\\dfrac{1}{n_2}\\right)}}$,\n",
    "\n"
   ]
  },
  {
   "cell_type": "markdown",
   "id": "a5533304",
   "metadata": {},
   "source": [
    "#### $\\hat{p}_\\text{overall}$"
   ]
  },
  {
   "cell_type": "code",
   "execution_count": 28,
   "id": "c54af0f1",
   "metadata": {},
   "outputs": [
    {
     "name": "stdout",
     "output_type": "stream",
     "text": [
      "Get the total number of people:  32561\n",
      "Get the total number of people in each category:\n",
      "income\n",
      "<=50K    24720\n",
      ">50K      7841\n",
      "Name: count, dtype: int64\n",
      "Get the total number of people making more than 50k:  7841\n",
      "Overall proportion making over >50k: 24.08%\n"
     ]
    }
   ],
   "source": [
    "# get the total number of people\n",
    "peopleCount = data[\"income\"].count()\n",
    "print(\"Get the total number of people: \", peopleCount)\n",
    "\n",
    "# Get the total number of people in each category\n",
    "print(\"Get the total number of people in each category:\")\n",
    "salaryCounts = data[\"income\"].value_counts()\n",
    "print(salaryCounts)\n",
    "\n",
    "# Get the total number of people making more than 50K\n",
    "peopleOver50K = salaryCounts[\">50K\"]\n",
    "print(\"Get the total number of people making more than 50k: \", peopleOver50K)\n",
    "\n",
    "# Get the overall proportion\n",
    "salaryProportion = peopleOver50K / peopleCount\n",
    "print(f\"Overall proportion making over >50k: {salaryProportion:.2%}\")"
   ]
  },
  {
   "cell_type": "code",
   "execution_count": 31,
   "id": "84406d95",
   "metadata": {},
   "outputs": [
    {
     "name": "stdout",
     "output_type": "stream",
     "text": [
      "Get the total number of people:  21790\n",
      "Get the total number of people in each category:\n",
      "income\n",
      "<=50K    15128\n",
      ">50K      6662\n",
      "Name: count, dtype: int64\n",
      "Get the total number of people making more than 50k:  6662\n",
      "Overall proportion of men making over >50k: 30.57%\n"
     ]
    }
   ],
   "source": [
    "menData = data[data[\"sex\"] == \"Male\"]\n",
    "\n",
    "# get the total number of people\n",
    "menCount = menData[\"income\"].count()\n",
    "print(\"Get the total number of people: \", menCount)\n",
    "\n",
    "# Get the total number of people in each category\n",
    "print(\"Get the total number of people in each category:\")\n",
    "menSalaryCounts = menData[\"income\"].value_counts()\n",
    "print(menSalaryCounts)\n",
    "\n",
    "# Get the total number of people making more than 50K\n",
    "menOver50K = menSalaryCounts[\">50K\"]\n",
    "print(\"Get the total number of people making more than 50k: \", menOver50K)\n",
    "\n",
    "# Get the overall proportion\n",
    "menSalaryProportion = menOver50K / menCount\n",
    "print(f\"Overall proportion of men making over >50k: {menSalaryProportion:.2%}\")"
   ]
  },
  {
   "cell_type": "code",
   "execution_count": 32,
   "id": "91751bbc",
   "metadata": {},
   "outputs": [
    {
     "name": "stdout",
     "output_type": "stream",
     "text": [
      "Get the total number of people:  10771\n",
      "Get the total number of people in each category:\n",
      "income\n",
      "<=50K    9592\n",
      ">50K     1179\n",
      "Name: count, dtype: int64\n",
      "Get the total number of people making more than 50k:  1179\n",
      "Overall proportion of women making over >50k: 10.95%\n"
     ]
    }
   ],
   "source": [
    "womenData = data[data[\"sex\"] == \"Female\"]\n",
    "\n",
    "# get the total number of people\n",
    "womenCount = womenData[\"income\"].count()\n",
    "print(\"Get the total number of people: \", womenCount)\n",
    "\n",
    "# Get the total number of people in each category\n",
    "print(\"Get the total number of people in each category:\")\n",
    "womenSalaryCounts = womenData[\"income\"].value_counts()\n",
    "print(womenSalaryCounts)\n",
    "\n",
    "# Get the total number of people making more than 50K\n",
    "womenOver50K = womenSalaryCounts[\">50K\"]\n",
    "print(\"Get the total number of people making more than 50k: \", womenOver50K)\n",
    "\n",
    "# Get the overall proportion\n",
    "womenSalaryProportion = womenOver50K / womenCount\n",
    "print(f\"Overall proportion of women making over >50k: {womenSalaryProportion:.2%}\")"
   ]
  },
  {
   "cell_type": "markdown",
   "id": "04b306d9",
   "metadata": {},
   "source": [
    "Umm, this doesn't look great... Let's formally test it."
   ]
  },
  {
   "cell_type": "code",
   "execution_count": 35,
   "id": "bce0a8ea",
   "metadata": {},
   "outputs": [
    {
     "data": {
      "text/plain": [
       "38.972898531634414"
      ]
     },
     "execution_count": 35,
     "metadata": {},
     "output_type": "execute_result"
    }
   ],
   "source": [
    "Z = (menSalaryProportion - womenSalaryProportion) / math.sqrt(\n",
    "    salaryProportion * (1 - salaryProportion) * (1 / menCount + 1 / womenCount)\n",
    ")\n",
    "Z"
   ]
  },
  {
   "cell_type": "markdown",
   "id": "aeca0608",
   "metadata": {},
   "source": [
    "I don't even need to calculate a formal probability for this... men and women do not get high salaries at the same rate."
   ]
  }
 ],
 "metadata": {
  "jupytext": {
   "cell_metadata_filter": "-all",
   "main_language": "python",
   "notebook_metadata_filter": "-all"
  },
  "kernelspec": {
   "display_name": "Python 3",
   "language": "python",
   "name": "python3"
  },
  "language_info": {
   "codemirror_mode": {
    "name": "ipython",
    "version": 3
   },
   "file_extension": ".py",
   "mimetype": "text/x-python",
   "name": "python",
   "nbconvert_exporter": "python",
   "pygments_lexer": "ipython3",
   "version": "3.12.0"
  }
 },
 "nbformat": 4,
 "nbformat_minor": 5
}
